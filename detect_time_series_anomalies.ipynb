{
 "cells": [
  {
   "cell_type": "code",
   "execution_count": 1,
   "metadata": {},
   "outputs": [],
   "source": [
    "import numpy as np\n",
    "import pandas as pd\n",
    "import math\n",
    "from sklearn import metrics\n",
    "\n",
    "from scipy.stats import entropy\n",
    "\n",
    "import warnings\n",
    "warnings.filterwarnings(\"ignore\")\n",
    "import matplotlib.pyplot as plt\n",
    "import matplotlib.dates as mdates #to format dates on our plots\n",
    "%matplotlib inline\n",
    "import seaborn as sns"
   ]
  },
  {
   "cell_type": "code",
   "execution_count": 3,
   "metadata": {},
   "outputs": [],
   "source": [
    "colnames=['ip', 'timestamp', 'request_method', 'status', 'size',\n",
    "          'destination', 'request_agent']\n",
    "df_orig = pd.read_csv('http://python.zach.lol/access.log',          \n",
    "                 engine='python',\n",
    "                 header=None,\n",
    "                 index_col=False,\n",
    "                 names=colnames,\n",
    "                 sep=r'\\s(?=(?:[^\"]*\"[^\"]*\")*[^\"]*$)(?![^\\[]*\\])',\n",
    "                 na_values='\"-\"',\n",
    "                 usecols=[0, 3, 4, 5, 6, 7, 8]\n",
    "                     )"
   ]
  },
  {
   "cell_type": "code",
   "execution_count": 4,
   "metadata": {},
   "outputs": [
    {
     "name": "stdout",
     "output_type": "stream",
     "text": [
      "<class 'pandas.core.frame.DataFrame'>\n",
      "RangeIndex: 13974 entries, 0 to 13973\n",
      "Data columns (total 7 columns):\n",
      "ip                13974 non-null object\n",
      "timestamp         13974 non-null object\n",
      "request_method    13974 non-null object\n",
      "status            13974 non-null int64\n",
      "size              13974 non-null int64\n",
      "destination       25 non-null object\n",
      "request_agent     13974 non-null object\n",
      "dtypes: int64(2), object(5)\n",
      "memory usage: 764.3+ KB\n"
     ]
    }
   ],
   "source": [
    "df_orig.info()"
   ]
  },
  {
   "cell_type": "code",
   "execution_count": 5,
   "metadata": {},
   "outputs": [],
   "source": [
    "new = pd.DataFrame([[\"95.31.18.119\", \"[21/Apr/2019:10:02:41+0000]\", \n",
    "                     \"GET /api/v1/items/HTTP/1.1\", 200, 1153005, np.nan, \n",
    "                     \"python-requests/2.21.0\"],\n",
    "                    [\"95.31.16.121\", \"[17/Apr/2019:19:36:41+0000]\", \n",
    "                     \"GET /api/v1/sales?page=79/HTTP/1.1\", 301, 1005, np.nan, \n",
    "                     \"python-requests/2.21.0\"],\n",
    "                    [\"97.105.15.120\", \"[18/Apr/2019:19:42:41+0000]\", \n",
    "                     \"GET /api/v1/sales?page=79/HTTP/1.1\", 301, 2560, np.nan, \n",
    "                     \"python-requests/2.21.0\"],\n",
    "                    [\"97.105.19.58\", \"[19/Apr/2019:19:42:41+0000]\", \n",
    "                     \"GET /api/v1/sales?page=79/HTTP/1.1\", 200, 2056327, np.nan, \n",
    "                     \"python-requests/2.21.0\"]], columns=colnames)\n",
    "\n",
    "df = df_orig.append(new)"
   ]
  },
  {
   "cell_type": "code",
   "execution_count": 7,
   "metadata": {},
   "outputs": [
    {
     "data": {
      "text/html": [
       "<div>\n",
       "<style scoped>\n",
       "    .dataframe tbody tr th:only-of-type {\n",
       "        vertical-align: middle;\n",
       "    }\n",
       "\n",
       "    .dataframe tbody tr th {\n",
       "        vertical-align: top;\n",
       "    }\n",
       "\n",
       "    .dataframe thead th {\n",
       "        text-align: right;\n",
       "    }\n",
       "</style>\n",
       "<table border=\"1\" class=\"dataframe\">\n",
       "  <thead>\n",
       "    <tr style=\"text-align: right;\">\n",
       "      <th></th>\n",
       "      <th>ip</th>\n",
       "      <th>timestamp</th>\n",
       "      <th>request_method</th>\n",
       "      <th>status</th>\n",
       "      <th>size</th>\n",
       "      <th>destination</th>\n",
       "      <th>request_agent</th>\n",
       "    </tr>\n",
       "  </thead>\n",
       "  <tbody>\n",
       "    <tr>\n",
       "      <th>0</th>\n",
       "      <td>97.105.19.58</td>\n",
       "      <td>[16/Apr/2019:19:34:42 +0000]</td>\n",
       "      <td>\"GET /api/v1/sales?page=81 HTTP/1.1\"</td>\n",
       "      <td>200</td>\n",
       "      <td>512495</td>\n",
       "      <td>NaN</td>\n",
       "      <td>\"python-requests/2.21.0\"</td>\n",
       "    </tr>\n",
       "    <tr>\n",
       "      <th>1</th>\n",
       "      <td>97.105.19.58</td>\n",
       "      <td>[16/Apr/2019:19:34:42 +0000]</td>\n",
       "      <td>\"GET /api/v1/items HTTP/1.1\"</td>\n",
       "      <td>200</td>\n",
       "      <td>3561</td>\n",
       "      <td>NaN</td>\n",
       "      <td>\"python-requests/2.21.0\"</td>\n",
       "    </tr>\n",
       "    <tr>\n",
       "      <th>2</th>\n",
       "      <td>97.105.19.58</td>\n",
       "      <td>[16/Apr/2019:19:34:44 +0000]</td>\n",
       "      <td>\"GET /api/v1/sales?page=82 HTTP/1.1\"</td>\n",
       "      <td>200</td>\n",
       "      <td>510103</td>\n",
       "      <td>NaN</td>\n",
       "      <td>\"python-requests/2.21.0\"</td>\n",
       "    </tr>\n",
       "    <tr>\n",
       "      <th>3</th>\n",
       "      <td>97.105.19.58</td>\n",
       "      <td>[16/Apr/2019:19:34:46 +0000]</td>\n",
       "      <td>\"GET /api/v1/sales?page=83 HTTP/1.1\"</td>\n",
       "      <td>200</td>\n",
       "      <td>510003</td>\n",
       "      <td>NaN</td>\n",
       "      <td>\"python-requests/2.21.0\"</td>\n",
       "    </tr>\n",
       "    <tr>\n",
       "      <th>4</th>\n",
       "      <td>97.105.19.58</td>\n",
       "      <td>[16/Apr/2019:19:34:48 +0000]</td>\n",
       "      <td>\"GET /api/v1/sales?page=84 HTTP/1.1\"</td>\n",
       "      <td>200</td>\n",
       "      <td>511963</td>\n",
       "      <td>NaN</td>\n",
       "      <td>\"python-requests/2.21.0\"</td>\n",
       "    </tr>\n",
       "  </tbody>\n",
       "</table>\n",
       "</div>"
      ],
      "text/plain": [
       "             ip                     timestamp  \\\n",
       "0  97.105.19.58  [16/Apr/2019:19:34:42 +0000]   \n",
       "1  97.105.19.58  [16/Apr/2019:19:34:42 +0000]   \n",
       "2  97.105.19.58  [16/Apr/2019:19:34:44 +0000]   \n",
       "3  97.105.19.58  [16/Apr/2019:19:34:46 +0000]   \n",
       "4  97.105.19.58  [16/Apr/2019:19:34:48 +0000]   \n",
       "\n",
       "                         request_method  status    size destination  \\\n",
       "0  \"GET /api/v1/sales?page=81 HTTP/1.1\"     200  512495         NaN   \n",
       "1          \"GET /api/v1/items HTTP/1.1\"     200    3561         NaN   \n",
       "2  \"GET /api/v1/sales?page=82 HTTP/1.1\"     200  510103         NaN   \n",
       "3  \"GET /api/v1/sales?page=83 HTTP/1.1\"     200  510003         NaN   \n",
       "4  \"GET /api/v1/sales?page=84 HTTP/1.1\"     200  511963         NaN   \n",
       "\n",
       "              request_agent  \n",
       "0  \"python-requests/2.21.0\"  \n",
       "1  \"python-requests/2.21.0\"  \n",
       "2  \"python-requests/2.21.0\"  \n",
       "3  \"python-requests/2.21.0\"  \n",
       "4  \"python-requests/2.21.0\"  "
      ]
     },
     "execution_count": 7,
     "metadata": {},
     "output_type": "execute_result"
    }
   ],
   "source": [
    "df.head()"
   ]
  },
  {
   "cell_type": "code",
   "execution_count": 8,
   "metadata": {},
   "outputs": [
    {
     "name": "stdout",
     "output_type": "stream",
     "text": [
      "<class 'pandas.core.frame.DataFrame'>\n",
      "Int64Index: 13978 entries, 0 to 3\n",
      "Data columns (total 7 columns):\n",
      "ip                13978 non-null object\n",
      "timestamp         13978 non-null object\n",
      "request_method    13978 non-null object\n",
      "status            13978 non-null int64\n",
      "size              13978 non-null int64\n",
      "destination       25 non-null object\n",
      "request_agent     13978 non-null object\n",
      "dtypes: int64(2), object(5)\n",
      "memory usage: 873.6+ KB\n"
     ]
    }
   ],
   "source": [
    "df.info()"
   ]
  },
  {
   "cell_type": "code",
   "execution_count": 9,
   "metadata": {},
   "outputs": [],
   "source": [
    "df.timestamp = df.timestamp.str.replace(r'(\\[|\\])', '', regex=True)\n",
    "df.timestamp= pd.to_datetime(df.timestamp.str.replace(':', ' ', 1)) \n",
    "df = df.set_index('timestamp')"
   ]
  },
  {
   "cell_type": "code",
   "execution_count": 10,
   "metadata": {},
   "outputs": [
    {
     "data": {
      "text/html": [
       "<div>\n",
       "<style scoped>\n",
       "    .dataframe tbody tr th:only-of-type {\n",
       "        vertical-align: middle;\n",
       "    }\n",
       "\n",
       "    .dataframe tbody tr th {\n",
       "        vertical-align: top;\n",
       "    }\n",
       "\n",
       "    .dataframe thead th {\n",
       "        text-align: right;\n",
       "    }\n",
       "</style>\n",
       "<table border=\"1\" class=\"dataframe\">\n",
       "  <thead>\n",
       "    <tr style=\"text-align: right;\">\n",
       "      <th></th>\n",
       "      <th>ip</th>\n",
       "      <th>request_method</th>\n",
       "      <th>status</th>\n",
       "      <th>size</th>\n",
       "      <th>destination</th>\n",
       "      <th>request_agent</th>\n",
       "    </tr>\n",
       "    <tr>\n",
       "      <th>timestamp</th>\n",
       "      <th></th>\n",
       "      <th></th>\n",
       "      <th></th>\n",
       "      <th></th>\n",
       "      <th></th>\n",
       "      <th></th>\n",
       "    </tr>\n",
       "  </thead>\n",
       "  <tbody>\n",
       "    <tr>\n",
       "      <th>2019-04-16 19:34:42+00:00</th>\n",
       "      <td>97.105.19.58</td>\n",
       "      <td>\"GET /api/v1/sales?page=81 HTTP/1.1\"</td>\n",
       "      <td>200</td>\n",
       "      <td>512495</td>\n",
       "      <td>NaN</td>\n",
       "      <td>\"python-requests/2.21.0\"</td>\n",
       "    </tr>\n",
       "    <tr>\n",
       "      <th>2019-04-16 19:34:42+00:00</th>\n",
       "      <td>97.105.19.58</td>\n",
       "      <td>\"GET /api/v1/items HTTP/1.1\"</td>\n",
       "      <td>200</td>\n",
       "      <td>3561</td>\n",
       "      <td>NaN</td>\n",
       "      <td>\"python-requests/2.21.0\"</td>\n",
       "    </tr>\n",
       "    <tr>\n",
       "      <th>2019-04-16 19:34:44+00:00</th>\n",
       "      <td>97.105.19.58</td>\n",
       "      <td>\"GET /api/v1/sales?page=82 HTTP/1.1\"</td>\n",
       "      <td>200</td>\n",
       "      <td>510103</td>\n",
       "      <td>NaN</td>\n",
       "      <td>\"python-requests/2.21.0\"</td>\n",
       "    </tr>\n",
       "    <tr>\n",
       "      <th>2019-04-16 19:34:46+00:00</th>\n",
       "      <td>97.105.19.58</td>\n",
       "      <td>\"GET /api/v1/sales?page=83 HTTP/1.1\"</td>\n",
       "      <td>200</td>\n",
       "      <td>510003</td>\n",
       "      <td>NaN</td>\n",
       "      <td>\"python-requests/2.21.0\"</td>\n",
       "    </tr>\n",
       "    <tr>\n",
       "      <th>2019-04-16 19:34:48+00:00</th>\n",
       "      <td>97.105.19.58</td>\n",
       "      <td>\"GET /api/v1/sales?page=84 HTTP/1.1\"</td>\n",
       "      <td>200</td>\n",
       "      <td>511963</td>\n",
       "      <td>NaN</td>\n",
       "      <td>\"python-requests/2.21.0\"</td>\n",
       "    </tr>\n",
       "  </tbody>\n",
       "</table>\n",
       "</div>"
      ],
      "text/plain": [
       "                                     ip                        request_method  \\\n",
       "timestamp                                                                       \n",
       "2019-04-16 19:34:42+00:00  97.105.19.58  \"GET /api/v1/sales?page=81 HTTP/1.1\"   \n",
       "2019-04-16 19:34:42+00:00  97.105.19.58          \"GET /api/v1/items HTTP/1.1\"   \n",
       "2019-04-16 19:34:44+00:00  97.105.19.58  \"GET /api/v1/sales?page=82 HTTP/1.1\"   \n",
       "2019-04-16 19:34:46+00:00  97.105.19.58  \"GET /api/v1/sales?page=83 HTTP/1.1\"   \n",
       "2019-04-16 19:34:48+00:00  97.105.19.58  \"GET /api/v1/sales?page=84 HTTP/1.1\"   \n",
       "\n",
       "                           status    size destination  \\\n",
       "timestamp                                               \n",
       "2019-04-16 19:34:42+00:00     200  512495         NaN   \n",
       "2019-04-16 19:34:42+00:00     200    3561         NaN   \n",
       "2019-04-16 19:34:44+00:00     200  510103         NaN   \n",
       "2019-04-16 19:34:46+00:00     200  510003         NaN   \n",
       "2019-04-16 19:34:48+00:00     200  511963         NaN   \n",
       "\n",
       "                                      request_agent  \n",
       "timestamp                                            \n",
       "2019-04-16 19:34:42+00:00  \"python-requests/2.21.0\"  \n",
       "2019-04-16 19:34:42+00:00  \"python-requests/2.21.0\"  \n",
       "2019-04-16 19:34:44+00:00  \"python-requests/2.21.0\"  \n",
       "2019-04-16 19:34:46+00:00  \"python-requests/2.21.0\"  \n",
       "2019-04-16 19:34:48+00:00  \"python-requests/2.21.0\"  "
      ]
     },
     "execution_count": 10,
     "metadata": {},
     "output_type": "execute_result"
    }
   ],
   "source": [
    "df.head()"
   ]
  },
  {
   "cell_type": "code",
   "execution_count": 11,
   "metadata": {},
   "outputs": [
    {
     "data": {
      "text/plain": [
       "\"https://python.zach.lol/\"                                        4\n",
       "\"https://ds.codeup.com/8.3_Acquire/\"                              3\n",
       "\"https://python.zach.lol/api/v1/\"                                 2\n",
       "\"https://python.zach.lol/api/v1/stores?page=1\"                    2\n",
       "\"https://python.zach.lol/api/v1/helloclass!\"                      1\n",
       "\"https://python.zach.lol/api/v1//api/v1/items\"                    1\n",
       "\"https://python.zach.lol/api/v1/I_DIDNT_DO_IT!!!!\"                1\n",
       "\"https://python.zach.lol/api/v1/stores?page=0\"                    1\n",
       "\"http://localhost:8888/notebooks/acquire.ipynb\"                   1\n",
       "\"https://python.zach.lol/api/v1//api/v1/items?page=2\"             1\n",
       "\"https://python.zach.lol/api/v1/stores?page=2\"                    1\n",
       "\"https://python.zach.lol/api/V1/HiZach!\"                          1\n",
       "\"https://python.zach.lol/api/v1//api/v1/items/next_page\"          1\n",
       "\"https://python.zach.lol/api/v1/items\"                            1\n",
       "\"https://python.zach.lol/api/v1/stores?page=999\"                  1\n",
       "\"https://python.zach.lol/api/v1/items?page=0\"                     1\n",
       "\"http://localhost:8889/notebooks/timeseries_acquisition.ipynb\"    1\n",
       "\"https://python.zach.lol/api/v1/sales?page=3\"                     1\n",
       "Name: destination, dtype: int64"
      ]
     },
     "execution_count": 11,
     "metadata": {},
     "output_type": "execute_result"
    }
   ],
   "source": [
    "df.destination.value_counts()"
   ]
  },
  {
   "cell_type": "code",
   "execution_count": 12,
   "metadata": {},
   "outputs": [],
   "source": [
    "for col in ['request_method', 'request_agent', 'destination']:\n",
    "    df[col] = df[col].str.replace('\"', '')"
   ]
  },
  {
   "cell_type": "code",
   "execution_count": 13,
   "metadata": {},
   "outputs": [
    {
     "data": {
      "text/plain": [
       "220"
      ]
     },
     "execution_count": 13,
     "metadata": {},
     "output_type": "execute_result"
    }
   ],
   "source": [
    "len(df.request_method.value_counts())"
   ]
  },
  {
   "cell_type": "code",
   "execution_count": 14,
   "metadata": {},
   "outputs": [],
   "source": [
    "df['request_method'] = df.request_method.str.replace(r'\\?page=[0-9]+', '', regex = True)"
   ]
  },
  {
   "cell_type": "code",
   "execution_count": 15,
   "metadata": {},
   "outputs": [
    {
     "data": {
      "text/plain": [
       "22"
      ]
     },
     "execution_count": 15,
     "metadata": {},
     "output_type": "execute_result"
    }
   ],
   "source": [
    "len(df.request_method.value_counts())"
   ]
  },
  {
   "cell_type": "code",
   "execution_count": 16,
   "metadata": {},
   "outputs": [
    {
     "data": {
      "text/plain": [
       "GET /api/v1/sales HTTP/1.1                      12403\n",
       "GET /api/v1/items HTTP/1.1                       1065\n",
       "GET /api/v1/stores HTTP/1.1                       229\n",
       "GET / HTTP/1.1                                    107\n",
       "GET /documentation HTTP/1.1                       100\n",
       "GET /favicon.ico HTTP/1.1                          26\n",
       "GET /api/v1//api/v1/items HTTP/1.1                 11\n",
       "GET /api/v1/items/api/v1/items HTTP/1.1             7\n",
       "GET /api/v1/items/next_page HTTP/1.1                5\n",
       "GET /api/v1/ HTTP/1.1                               4\n",
       "GET /api/v1/sales/HTTP/1.1                          3\n",
       "GET /api/v1/store HTTP/1.1                          3\n",
       "GET /api/v1/sales/ HTTP/1.1                         3\n",
       "GET /api/v1/itemsitems HTTP/1.1                     3\n",
       "GET /api/v1items HTTP/1.1                           2\n",
       "GET /api/v1//api/v1/items/next_page HTTP/1.1        1\n",
       "GET /api/v1/items&page=0 HTTP/1.1                   1\n",
       "GET /api/V1/HiZach! HTTP/1.1                        1\n",
       "GET /api/v1 HTTP/1.1                                1\n",
       "GET /api/v1/helloclass! HTTP/1.1                    1\n",
       "GET /api/v1/I_DIDNT_DO_IT!!!! HTTP/1.1              1\n",
       "GET /api/v1/items/HTTP/1.1                          1\n",
       "Name: request_method, dtype: int64"
      ]
     },
     "execution_count": 16,
     "metadata": {},
     "output_type": "execute_result"
    }
   ],
   "source": [
    "df.request_method.value_counts()"
   ]
  },
  {
   "cell_type": "code",
   "execution_count": 17,
   "metadata": {},
   "outputs": [],
   "source": [
    "df[['request_call','api_version','endpoints','http']] = \\\n",
    "    df.request_method.str.extract(r'(?P<request_call>^[A-Z]+)\\s(?P<api_version>\\/api\\/v[0-9])(?P<endpoints>.+)(?P<http_version>HTTP\\/[0-9]\\.[0-9])', expand = True)"
   ]
  },
  {
   "cell_type": "code",
   "execution_count": 18,
   "metadata": {},
   "outputs": [
    {
     "data": {
      "text/html": [
       "<div>\n",
       "<style scoped>\n",
       "    .dataframe tbody tr th:only-of-type {\n",
       "        vertical-align: middle;\n",
       "    }\n",
       "\n",
       "    .dataframe tbody tr th {\n",
       "        vertical-align: top;\n",
       "    }\n",
       "\n",
       "    .dataframe thead th {\n",
       "        text-align: right;\n",
       "    }\n",
       "</style>\n",
       "<table border=\"1\" class=\"dataframe\">\n",
       "  <thead>\n",
       "    <tr style=\"text-align: right;\">\n",
       "      <th></th>\n",
       "      <th>ip</th>\n",
       "      <th>request_method</th>\n",
       "      <th>status</th>\n",
       "      <th>size</th>\n",
       "      <th>destination</th>\n",
       "      <th>request_agent</th>\n",
       "      <th>request_call</th>\n",
       "      <th>api_version</th>\n",
       "      <th>endpoints</th>\n",
       "      <th>http</th>\n",
       "    </tr>\n",
       "    <tr>\n",
       "      <th>timestamp</th>\n",
       "      <th></th>\n",
       "      <th></th>\n",
       "      <th></th>\n",
       "      <th></th>\n",
       "      <th></th>\n",
       "      <th></th>\n",
       "      <th></th>\n",
       "      <th></th>\n",
       "      <th></th>\n",
       "      <th></th>\n",
       "    </tr>\n",
       "  </thead>\n",
       "  <tbody>\n",
       "    <tr>\n",
       "      <th>2019-04-16 19:34:42+00:00</th>\n",
       "      <td>97.105.19.58</td>\n",
       "      <td>GET /api/v1/sales HTTP/1.1</td>\n",
       "      <td>200</td>\n",
       "      <td>512495</td>\n",
       "      <td>NaN</td>\n",
       "      <td>python-requests/2.21.0</td>\n",
       "      <td>GET</td>\n",
       "      <td>/api/v1</td>\n",
       "      <td>/sales</td>\n",
       "      <td>HTTP/1.1</td>\n",
       "    </tr>\n",
       "    <tr>\n",
       "      <th>2019-04-16 19:34:42+00:00</th>\n",
       "      <td>97.105.19.58</td>\n",
       "      <td>GET /api/v1/items HTTP/1.1</td>\n",
       "      <td>200</td>\n",
       "      <td>3561</td>\n",
       "      <td>NaN</td>\n",
       "      <td>python-requests/2.21.0</td>\n",
       "      <td>GET</td>\n",
       "      <td>/api/v1</td>\n",
       "      <td>/items</td>\n",
       "      <td>HTTP/1.1</td>\n",
       "    </tr>\n",
       "    <tr>\n",
       "      <th>2019-04-16 19:34:44+00:00</th>\n",
       "      <td>97.105.19.58</td>\n",
       "      <td>GET /api/v1/sales HTTP/1.1</td>\n",
       "      <td>200</td>\n",
       "      <td>510103</td>\n",
       "      <td>NaN</td>\n",
       "      <td>python-requests/2.21.0</td>\n",
       "      <td>GET</td>\n",
       "      <td>/api/v1</td>\n",
       "      <td>/sales</td>\n",
       "      <td>HTTP/1.1</td>\n",
       "    </tr>\n",
       "    <tr>\n",
       "      <th>2019-04-16 19:34:46+00:00</th>\n",
       "      <td>97.105.19.58</td>\n",
       "      <td>GET /api/v1/sales HTTP/1.1</td>\n",
       "      <td>200</td>\n",
       "      <td>510003</td>\n",
       "      <td>NaN</td>\n",
       "      <td>python-requests/2.21.0</td>\n",
       "      <td>GET</td>\n",
       "      <td>/api/v1</td>\n",
       "      <td>/sales</td>\n",
       "      <td>HTTP/1.1</td>\n",
       "    </tr>\n",
       "    <tr>\n",
       "      <th>2019-04-16 19:34:48+00:00</th>\n",
       "      <td>97.105.19.58</td>\n",
       "      <td>GET /api/v1/sales HTTP/1.1</td>\n",
       "      <td>200</td>\n",
       "      <td>511963</td>\n",
       "      <td>NaN</td>\n",
       "      <td>python-requests/2.21.0</td>\n",
       "      <td>GET</td>\n",
       "      <td>/api/v1</td>\n",
       "      <td>/sales</td>\n",
       "      <td>HTTP/1.1</td>\n",
       "    </tr>\n",
       "  </tbody>\n",
       "</table>\n",
       "</div>"
      ],
      "text/plain": [
       "                                     ip              request_method  status  \\\n",
       "timestamp                                                                     \n",
       "2019-04-16 19:34:42+00:00  97.105.19.58  GET /api/v1/sales HTTP/1.1     200   \n",
       "2019-04-16 19:34:42+00:00  97.105.19.58  GET /api/v1/items HTTP/1.1     200   \n",
       "2019-04-16 19:34:44+00:00  97.105.19.58  GET /api/v1/sales HTTP/1.1     200   \n",
       "2019-04-16 19:34:46+00:00  97.105.19.58  GET /api/v1/sales HTTP/1.1     200   \n",
       "2019-04-16 19:34:48+00:00  97.105.19.58  GET /api/v1/sales HTTP/1.1     200   \n",
       "\n",
       "                             size destination           request_agent  \\\n",
       "timestamp                                                               \n",
       "2019-04-16 19:34:42+00:00  512495         NaN  python-requests/2.21.0   \n",
       "2019-04-16 19:34:42+00:00    3561         NaN  python-requests/2.21.0   \n",
       "2019-04-16 19:34:44+00:00  510103         NaN  python-requests/2.21.0   \n",
       "2019-04-16 19:34:46+00:00  510003         NaN  python-requests/2.21.0   \n",
       "2019-04-16 19:34:48+00:00  511963         NaN  python-requests/2.21.0   \n",
       "\n",
       "                          request_call api_version endpoints      http  \n",
       "timestamp                                                               \n",
       "2019-04-16 19:34:42+00:00          GET     /api/v1   /sales   HTTP/1.1  \n",
       "2019-04-16 19:34:42+00:00          GET     /api/v1   /items   HTTP/1.1  \n",
       "2019-04-16 19:34:44+00:00          GET     /api/v1   /sales   HTTP/1.1  \n",
       "2019-04-16 19:34:46+00:00          GET     /api/v1   /sales   HTTP/1.1  \n",
       "2019-04-16 19:34:48+00:00          GET     /api/v1   /sales   HTTP/1.1  "
      ]
     },
     "execution_count": 18,
     "metadata": {},
     "output_type": "execute_result"
    }
   ],
   "source": [
    "df.head()"
   ]
  },
  {
   "cell_type": "code",
   "execution_count": 19,
   "metadata": {},
   "outputs": [
    {
     "name": "stdout",
     "output_type": "stream",
     "text": [
      "/sales                       12403\n",
      "/items                        1065\n",
      "/stores                        229\n",
      "//api/v1/items                  11\n",
      "/items/api/v1/items              7\n",
      "/items/next_page                 5\n",
      "/                                4\n",
      "/store                           3\n",
      "/sales/                          3\n",
      "/sales/                          3\n",
      "/itemsitems                      3\n",
      "items                            2\n",
      "                                 1\n",
      "/items&page=0                    1\n",
      "/I_DIDNT_DO_IT!!!!               1\n",
      "//api/v1/items/next_page         1\n",
      "/items/                          1\n",
      "/helloclass!                     1\n",
      "Name: endpoints, dtype: int64\n"
     ]
    }
   ],
   "source": [
    "print(df.endpoints.value_counts())"
   ]
  },
  {
   "cell_type": "code",
   "execution_count": null,
   "metadata": {},
   "outputs": [],
   "source": []
  }
 ],
 "metadata": {
  "kernelspec": {
   "display_name": "Python 3",
   "language": "python",
   "name": "python3"
  },
  "language_info": {
   "codemirror_mode": {
    "name": "ipython",
    "version": 3
   },
   "file_extension": ".py",
   "mimetype": "text/x-python",
   "name": "python",
   "nbconvert_exporter": "python",
   "pygments_lexer": "ipython3",
   "version": "3.7.4"
  }
 },
 "nbformat": 4,
 "nbformat_minor": 4
}
